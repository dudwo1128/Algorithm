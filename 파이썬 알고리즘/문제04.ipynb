{
 "cells": [
  {
   "cell_type": "markdown",
   "metadata": {},
   "source": [
    "# 문제 04\n",
    "\n",
    "1부터 n까지 연속한 정수의 곱을 구하는 알고리즘을 만들어 보세요"
   ]
  },
  {
   "cell_type": "code",
   "execution_count": 9,
   "metadata": {},
   "outputs": [
    {
     "name": "stdout",
     "output_type": "stream",
     "text": [
      "120\n"
     ]
    }
   ],
   "source": [
    "# 내 풀이\n",
    "\n",
    "def factorial(n):\n",
    "    result = 1\n",
    "    for i in range(1,n+1):\n",
    "        result = result*i\n",
    "    return print(result)\n",
    "\n",
    "factorial(5)"
   ]
  },
  {
   "cell_type": "markdown",
   "metadata": {},
   "source": [
    "## 러시아 인형\n",
    "\n",
    "재귀 호출 : 함수 안에서 자기 자신을 부르는 것"
   ]
  },
  {
   "cell_type": "code",
   "execution_count": null,
   "metadata": {},
   "outputs": [],
   "source": [
    "def hello():\n",
    "    print(\"hello\")\n",
    "    hello()\n",
    "\n",
    "hello()\n",
    "\n",
    "# hello 출력 무한 반복"
   ]
  },
  {
   "cell_type": "markdown",
   "metadata": {},
   "source": [
    "### 종료 조건\n",
    "- 재귀 호출 프로그램이 정상적으로 작동하기위해 필요\n",
    "- 특정 조건이 되면 더 이상 호출하지 않고 멈추어야\n",
    "- Return 명령을 사용해서 종료 조건의 결괏값으로 돌려줌"
   ]
  },
  {
   "cell_type": "code",
   "execution_count": 13,
   "metadata": {},
   "outputs": [
    {
     "name": "stdout",
     "output_type": "stream",
     "text": [
      "120\n"
     ]
    }
   ],
   "source": [
    "def fact(n):\n",
    "    # n이 1이 되면 종료\n",
    "    if n <= 1:\n",
    "        return n\n",
    "    else: \n",
    "        return n*fact(n-1)\n",
    "\n",
    "print(fact(5))"
   ]
  },
  {
   "cell_type": "markdown",
   "metadata": {},
   "source": [
    "## 알고리즘 분석\n",
    "- n!을 구하려면 n-1번의 계산 필요\n",
    "\n",
    "### 재귀 호출의 일반적인 형태\n",
    "def fun(입력값):\n",
    "    \n",
    "    if 입력 값이 충분히 작으면:\n",
    "        \n",
    "        return 결괏값\n",
    "     \n",
    "    func(더 작은 입력 값)\n",
    "    \n",
    "    return 결괏값"
   ]
  },
  {
   "cell_type": "markdown",
   "metadata": {},
   "source": [
    "## 연습 문제 4-1\n",
    "\n",
    "문제 1의 1부터 n까지의 합 구하기를 재귀 호출로 만들어 보세요"
   ]
  },
  {
   "cell_type": "code",
   "execution_count": 19,
   "metadata": {},
   "outputs": [
    {
     "name": "stdout",
     "output_type": "stream",
     "text": [
      "55\n"
     ]
    }
   ],
   "source": [
    "# 내 답안\n",
    "\n",
    "def sum_num(n):\n",
    "    if n == 1:\n",
    "        return 1\n",
    "    \n",
    "    return n + sum_num(n-1)\n",
    "\n",
    "print(sum_num(10))"
   ]
  },
  {
   "cell_type": "code",
   "execution_count": 21,
   "metadata": {},
   "outputs": [
    {
     "name": "stdout",
     "output_type": "stream",
     "text": [
      "55\n",
      "5050\n"
     ]
    }
   ],
   "source": [
    "# 교재 답안\n",
    "\n",
    "def sum_n(n):\n",
    "    if n == 0:\n",
    "        return 0\n",
    "    return sum_n(n-1) + n\n",
    "\n",
    "print(sum_n(10))\n",
    "print(sum_n(100))"
   ]
  },
  {
   "cell_type": "markdown",
   "metadata": {},
   "source": [
    "## 연습 문제 4-2\n",
    "\n",
    "문제 2의 숫자 n개 중에서 최댓값 찾기를 재귀 호출로 만들어 보세요."
   ]
  },
  {
   "cell_type": "code",
   "execution_count": 3,
   "metadata": {},
   "outputs": [
    {
     "name": "stdout",
     "output_type": "stream",
     "text": [
      "92\n"
     ]
    }
   ],
   "source": [
    "# 교재 답안\n",
    "\n",
    "def find_max(a,n):\n",
    "    if n == 1:\n",
    "        return a[0]\n",
    "    max_n_1 = find_max(a,n-1)\n",
    "    if max_n_1 > a[n-1]:\n",
    "        return max_n_1\n",
    "    else:\n",
    "        return a[n-1]\n",
    "\n",
    "v = [17,92,18,33,58,7,33,42]\n",
    "print(find_max(v,len(v)))"
   ]
  }
 ],
 "metadata": {
  "kernelspec": {
   "display_name": "Python 3",
   "language": "python",
   "name": "python3"
  },
  "language_info": {
   "codemirror_mode": {
    "name": "ipython",
    "version": 3
   },
   "file_extension": ".py",
   "mimetype": "text/x-python",
   "name": "python",
   "nbconvert_exporter": "python",
   "pygments_lexer": "ipython3",
   "version": "3.6.8"
  }
 },
 "nbformat": 4,
 "nbformat_minor": 2
}
