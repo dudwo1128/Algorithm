{
 "cells": [
  {
   "cell_type": "markdown",
   "metadata": {},
   "source": [
    "# 문제 08\n",
    "## 선택 정렬"
   ]
  },
  {
   "cell_type": "markdown",
   "metadata": {},
   "source": [
    "리스트에 들어 있는 숫자를 크기순으로 나열하는 정렬 알고리즘의 입출력은 다음과 같이 정리할 수 있습니다."
   ]
  },
  {
   "cell_type": "code",
   "execution_count": 3,
   "metadata": {},
   "outputs": [
    {
     "data": {
      "text/plain": [
       "[3, 5, 6]"
      ]
     },
     "execution_count": 3,
     "metadata": {},
     "output_type": "execute_result"
    }
   ],
   "source": [
    "def sort_list(list):\n",
    "    return sorted(list)\n",
    "\n",
    "sort_list([5,6,3])"
   ]
  },
  {
   "cell_type": "markdown",
   "metadata": {},
   "source": [
    "## 정렬 문제 5가지\n",
    "\n",
    "1. 선택 정렬(Selection sort)\n",
    "2. 삽입 정렬(Insertion sort)\n",
    "3. 병합 정렬(Merge sort)\n",
    "4. 퀵 정렬(Quicksort)\n",
    "5. 거품 정렬(Bubble sort)"
   ]
  },
  {
   "cell_type": "markdown",
   "metadata": {},
   "source": [
    "## 선택 정렬로 줄 세우기\n",
    "\n",
    " ### 대표 문제 : 키 순서로 줄 세우기\n",
    " 1. 10명 중 키가 가장 작은 사람을 찾아 다른 줄을 세운다.\n",
    " 2. 9명 중 키가 가장 작은 사람을 찾아 다른 줄에 세운다\n",
    " 3. 반복\n",
    " \n",
    " \n",
    "\n",
    " \n",
    " ### 두가지 선택 정렬 알고리즘\n",
    " 1. 쉽게 - 참고용\n",
    " 2. 일반적 - 정식"
   ]
  },
  {
   "cell_type": "markdown",
   "metadata": {},
   "source": [
    "## 쉽게 설명한 선택 정렬 알고리즘"
   ]
  },
  {
   "cell_type": "code",
   "execution_count": 15,
   "metadata": {},
   "outputs": [
    {
     "name": "stdout",
     "output_type": "stream",
     "text": [
      "[1, 2, 3, 4, 5]\n"
     ]
    }
   ],
   "source": [
    "# 교재 예시\n",
    "\n",
    "def find_min_idx(a):\n",
    "    n = len(a)\n",
    "    min_idx = 0\n",
    "    for i in range(1,n):\n",
    "        if a[i] < a[min_idx]:\n",
    "            min_idx = i\n",
    "    return min_idx\n",
    "\n",
    "def sel_sort(a): \n",
    "    result = []\n",
    "    while a:\n",
    "        min_idx = find_min_idx(a)\n",
    "        value = a.pop(min_idx)\n",
    "        result.append(value)\n",
    "    return result\n",
    "\n",
    "\n",
    "d = [2,4,5,1,3]\n",
    "print(sel_sort(d))"
   ]
  },
  {
   "cell_type": "markdown",
   "metadata": {},
   "source": [
    "## 일반적인 선택 정렬 알고리즘\n",
    "- 리스트 내에서 직접 자료의 위치를 바꾸면서 정렬\n",
    "- 아까 전보다 효율적인 정렬"
   ]
  },
  {
   "cell_type": "code",
   "execution_count": 2,
   "metadata": {},
   "outputs": [
    {
     "name": "stdout",
     "output_type": "stream",
     "text": [
      "[1, 2, 3, 4, 5]\n"
     ]
    }
   ],
   "source": [
    "def sel_sort(a):\n",
    "    n = len(a)\n",
    "    for i in range(0,n-1):\n",
    "        # i번 위치부터 끝까지 자료 값 중 최솟값의 위치를 찾음\n",
    "        min_idx = i\n",
    "        for j in range(i+1,n):\n",
    "            if a[j] < a[min_idx]:\n",
    "                min_idx = j\n",
    "        \n",
    "        # 찾은 최솟값으 i번 위치로\n",
    "        a[i],a[min_idx] = a[min_idx],a[i]\n",
    "\n",
    "d = [2,4,5,1,3]\n",
    "sel_sort(d)\n",
    "print(d)     "
   ]
  },
  {
   "cell_type": "markdown",
   "metadata": {},
   "source": [
    "## 알고리즘 분석\n",
    "- 자료 크기 순서 정렬시, 크기를 비교함\n",
    "- 정렬 알고리즘 계산 복잡도 = 비교 횟수 기준\n",
    "- 리스트 안의 자료를 한 번씩 비교\n",
    "- $(n(n-1))/2$\n",
    "- 계산 복잡도 O($n^2$)\n",
    "- '비교 횟수' - '입력크기 제곱' 비례\n",
    "- 입력 크기 커지면, 정렬 시간 오래 걸림"
   ]
  },
  {
   "cell_type": "markdown",
   "metadata": {},
   "source": [
    "## 연습 문제 8-1\n",
    "일반적인 선택 정렬 알고리즘을 사용해서 리스트 [2,4,5,1,3]을 정렬하는 과정을 적어보세요."
   ]
  },
  {
   "cell_type": "code",
   "execution_count": 18,
   "metadata": {},
   "outputs": [
    {
     "ename": "IndexError",
     "evalue": "list index out of range",
     "output_type": "error",
     "traceback": [
      "\u001b[1;31m---------------------------------------------------------------------------\u001b[0m",
      "\u001b[1;31mIndexError\u001b[0m                                Traceback (most recent call last)",
      "\u001b[1;32m<ipython-input-18-c16d308b853c>\u001b[0m in \u001b[0;36m<module>\u001b[1;34m\u001b[0m\n\u001b[0;32m     10\u001b[0m                 \u001b[0mlist\u001b[0m\u001b[1;33m.\u001b[0m\u001b[0mpop\u001b[0m\u001b[1;33m(\u001b[0m\u001b[0mlist\u001b[0m\u001b[1;33m[\u001b[0m\u001b[0mmin_idx\u001b[0m\u001b[1;33m]\u001b[0m\u001b[1;33m)\u001b[0m\u001b[1;33m\u001b[0m\u001b[1;33m\u001b[0m\u001b[0m\n\u001b[0;32m     11\u001b[0m     \u001b[1;32mreturn\u001b[0m \u001b[0mresult\u001b[0m\u001b[1;33m\u001b[0m\u001b[1;33m\u001b[0m\u001b[0m\n\u001b[1;32m---> 12\u001b[1;33m \u001b[0msel_sort\u001b[0m\u001b[1;33m(\u001b[0m\u001b[0ml\u001b[0m\u001b[1;33m)\u001b[0m\u001b[1;33m\u001b[0m\u001b[1;33m\u001b[0m\u001b[0m\n\u001b[0m",
      "\u001b[1;32m<ipython-input-18-c16d308b853c>\u001b[0m in \u001b[0;36msel_sort\u001b[1;34m(list)\u001b[0m\n\u001b[0;32m      7\u001b[0m             \u001b[0mmin_idx\u001b[0m \u001b[1;33m=\u001b[0m \u001b[0mi\u001b[0m\u001b[1;33m\u001b[0m\u001b[1;33m\u001b[0m\u001b[0m\n\u001b[0;32m      8\u001b[0m             \u001b[1;32mwhile\u001b[0m \u001b[0mlen\u001b[0m\u001b[1;33m(\u001b[0m\u001b[0mlist\u001b[0m\u001b[1;33m)\u001b[0m\u001b[1;33m:\u001b[0m\u001b[1;33m\u001b[0m\u001b[1;33m\u001b[0m\u001b[0m\n\u001b[1;32m----> 9\u001b[1;33m                 \u001b[0mresult\u001b[0m\u001b[1;33m.\u001b[0m\u001b[0mappend\u001b[0m\u001b[1;33m(\u001b[0m\u001b[0mlist\u001b[0m\u001b[1;33m[\u001b[0m\u001b[0mi\u001b[0m\u001b[1;33m]\u001b[0m\u001b[1;33m)\u001b[0m\u001b[1;33m\u001b[0m\u001b[1;33m\u001b[0m\u001b[0m\n\u001b[0m\u001b[0;32m     10\u001b[0m                 \u001b[0mlist\u001b[0m\u001b[1;33m.\u001b[0m\u001b[0mpop\u001b[0m\u001b[1;33m(\u001b[0m\u001b[0mlist\u001b[0m\u001b[1;33m[\u001b[0m\u001b[0mmin_idx\u001b[0m\u001b[1;33m]\u001b[0m\u001b[1;33m)\u001b[0m\u001b[1;33m\u001b[0m\u001b[1;33m\u001b[0m\u001b[0m\n\u001b[0;32m     11\u001b[0m     \u001b[1;32mreturn\u001b[0m \u001b[0mresult\u001b[0m\u001b[1;33m\u001b[0m\u001b[1;33m\u001b[0m\u001b[0m\n",
      "\u001b[1;31mIndexError\u001b[0m: list index out of range"
     ]
    }
   ],
   "source": [
    "l = [2,4,5,1,3]\n",
    "def sel_sort(list):\n",
    "    min_idx = 0\n",
    "    result = []\n",
    "    for i in range(len(list)):\n",
    "        if list[i] < list[min_idx]:\n",
    "            min_idx = i\n",
    "            while len(list):\n",
    "                result.append(list[i])\n",
    "                list.pop(list[min_idx])\n",
    "    return result\n",
    "sel_sort(l)"
   ]
  }
 ],
 "metadata": {
  "kernelspec": {
   "display_name": "Python 3",
   "language": "python",
   "name": "python3"
  },
  "language_info": {
   "codemirror_mode": {
    "name": "ipython",
    "version": 3
   },
   "file_extension": ".py",
   "mimetype": "text/x-python",
   "name": "python",
   "nbconvert_exporter": "python",
   "pygments_lexer": "ipython3",
   "version": "3.6.8"
  }
 },
 "nbformat": 4,
 "nbformat_minor": 2
}
