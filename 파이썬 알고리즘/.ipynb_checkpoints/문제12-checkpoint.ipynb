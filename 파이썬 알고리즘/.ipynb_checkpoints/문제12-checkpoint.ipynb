{
 "cells": [
  {
   "cell_type": "markdown",
   "metadata": {},
   "source": [
    "# 문제12\n",
    "### 이분탐색\n",
    "- 자료가 크기 순서대로 정렬된 리스트에서 특정한 값이 있는지 찾아 그 위치를 돌려주는 알고리즘을 만들어 보세요. 리스트에 찾는 값이 없으면 -1을 돌려줍니다."
   ]
  },
  {
   "cell_type": "markdown",
   "metadata": {},
   "source": [
    "## 이분 탐색(이진 탐색, Binary Search)\n",
    "- 탐색할 자료를 둘로 나누어, 값이 있을 법한 곳만 탐색\n",
    "- 순차 탐색보다 빠름"
   ]
  },
  {
   "cell_type": "markdown",
   "metadata": {},
   "source": [
    "## 이분 탐색 원리\n",
    "1. 중간 위치 찾기\n",
    "2. 중간값, 찾는값 찾기\n",
    "3. 찾는값 > 중간값 -> 중간 위치의 오른쪽을 대상으로 다시 탐색\n",
    "4. 찾는값 < 중간값 -> 중간 위치의 왼쪽을 대상으로 다시 탐색\n"
   ]
  },
  {
   "cell_type": "code",
   "execution_count": null,
   "metadata": {},
   "outputs": [],
   "source": []
  }
 ],
 "metadata": {
  "kernelspec": {
   "display_name": "Python 3",
   "language": "python",
   "name": "python3"
  },
  "language_info": {
   "codemirror_mode": {
    "name": "ipython",
    "version": 3
   },
   "file_extension": ".py",
   "mimetype": "text/x-python",
   "name": "python",
   "nbconvert_exporter": "python",
   "pygments_lexer": "ipython3",
   "version": "3.6.8"
  }
 },
 "nbformat": 4,
 "nbformat_minor": 2
}
