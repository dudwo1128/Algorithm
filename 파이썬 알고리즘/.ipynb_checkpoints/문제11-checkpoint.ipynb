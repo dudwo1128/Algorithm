{
 "cells": [
  {
   "cell_type": "markdown",
   "metadata": {},
   "source": [
    "# 문제11\n",
    "## 퀵 정렬\n",
    "- 리스트 안의 자료를 작은 수부터 큰 수 순서로 배열하는 정렬 알고리즘을 만들어보세요.\n",
    "\n",
    "- 병합 정렬과 차이점 =\n",
    "    그룹 나눌때 기준이 있음"
   ]
  },
  {
   "cell_type": "markdown",
   "metadata": {},
   "source": [
    "## 퀵 정렬로 세우기\n",
    "1. 기준이 되는 사람 뽑기\n",
    "2. 그 기준보다 작은 그룹, 큰 그룹으로 나누기\n",
    "3. 각 그룹 정렬 후 병합"
   ]
  },
  {
   "cell_type": "markdown",
   "metadata": {},
   "source": [
    "## 쉽게 설명한 퀵 정렬 알고리즘"
   ]
  },
  {
   "cell_type": "code",
   "execution_count": 4,
   "metadata": {},
   "outputs": [
    {
     "data": {
      "text/plain": [
       "[1, 2, 3, 4, 5, 6, 7, 8, 9, 10]"
      ]
     },
     "execution_count": 4,
     "metadata": {},
     "output_type": "execute_result"
    }
   ],
   "source": [
    "def quick_sort(a):\n",
    "    n = len(a)\n",
    "    if n <= 1:\n",
    "        return a\n",
    "    \n",
    "    g1 = []\n",
    "    g2 = []\n",
    "    pivot = a[-1]\n",
    "    for i in range(0,n-1):\n",
    "        if a[i] < pivot:\n",
    "            g1.append(a[i])\n",
    "        else:\n",
    "            g2.append(a[i])\n",
    "    \n",
    "    return quick_sort(g1) + [pivot] + quick_sort(g2)\n",
    "\n",
    "d = [6, 8, 3, 9, 10, 1, 2, 4, 7, 5]\n",
    "quick_sort(d)"
   ]
  },
  {
   "cell_type": "markdown",
   "metadata": {},
   "source": [
    "## 일반적인 퀵 정렬 알고리즘\n",
    "- 입력 리스트 안에서 직접 위치를 바꾸면서 정렬"
   ]
  },
  {
   "cell_type": "code",
   "execution_count": 6,
   "metadata": {},
   "outputs": [
    {
     "name": "stdout",
     "output_type": "stream",
     "text": [
      "[1, 2, 3, 4, 5, 6, 7, 8, 9, 10]\n"
     ]
    }
   ],
   "source": [
    "# 교재 예시\n",
    "\n",
    "def quick_sort_sub(a,start,end):\n",
    "    if end - start <= 0:\n",
    "        return\n",
    "    \n",
    "    pivot = a[end]\n",
    "    i = start\n",
    "    for j in range(start,end):\n",
    "        if a[j] <= pivot:\n",
    "            a[i],a[j] = a[j],a[i]\n",
    "            i+= 1\n",
    "    a[i],a[end] = a[end],a[i]\n",
    "    \n",
    "    quick_sort_sub(a,start,i-1)\n",
    "    quick_sort_sub(a,i+1, end)\n",
    "\n",
    "def quick_sort(a):\n",
    "    quick_sort_sub(a,0,len(a)-1)\n",
    "\n",
    "d = [6,8,3,9,10,1,2,4,7,5]\n",
    "quick_sort(d)\n",
    "print(d)"
   ]
  }
 ],
 "metadata": {
  "kernelspec": {
   "display_name": "Python 3",
   "language": "python",
   "name": "python3"
  },
  "language_info": {
   "codemirror_mode": {
    "name": "ipython",
    "version": 3
   },
   "file_extension": ".py",
   "mimetype": "text/x-python",
   "name": "python",
   "nbconvert_exporter": "python",
   "pygments_lexer": "ipython3",
   "version": "3.6.8"
  }
 },
 "nbformat": 4,
 "nbformat_minor": 2
}
