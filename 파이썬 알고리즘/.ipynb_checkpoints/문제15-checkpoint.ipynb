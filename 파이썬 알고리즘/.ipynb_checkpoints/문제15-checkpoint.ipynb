{
 "cells": [
  {
   "cell_type": "markdown",
   "metadata": {},
   "source": [
    "# 문제15\n",
    "- 친구 관계를 이용하여 어떤 한 사람이 직접 또는 간접으로 아는 모든 친구들 출력하는 알고리즘을 만들어 보세요.\n",
    "- Ex) 싸이월드 친구 찾기"
   ]
  },
  {
   "cell_type": "markdown",
   "metadata": {},
   "source": [
    "## 용어 정리\n",
    "- 친구(일촌) : 서로 친구 요청 수락한 경우\n",
    "- 모든 친척 : 직간접적으로 아는 모든 사람\n",
    "- 친밀도 : 직간접으로 아는 사이일 경우, 서로 몇단계를 거치는지\n",
    "\n",
    "\n",
    "- 꼭지점(Vertex) : 이름이 붙여진 꼭짓점\n",
    "- 선(Edge) : 꼭짓점 연결"
   ]
  },
  {
   "cell_type": "markdown",
   "metadata": {},
   "source": [
    "## 그래프로 친구 관계 표현하기\n",
    "• Summer와 John은 서로 친구입니다.\n",
    "\n",
    "• Summer와 Justin은 서로 친구입니다.\n",
    "\n",
    "• Summer와 Mike는 서로 친구입니다.\n",
    "\n",
    "• Justin과 May는 서로 친구입니다.\n",
    "\n",
    "• May와 Kim은 서로 친구입니다.\n",
    "\n",
    "• John과 Justin은 서로 친구입니다.\n",
    "\n",
    "• Justin과 Mike는 서로 친구입니다.\n",
    "\n",
    "• Tom과 Jerry는 서로 친구입니다."
   ]
  }
 ],
 "metadata": {
  "kernelspec": {
   "display_name": "Python 3",
   "language": "python",
   "name": "python3"
  },
  "language_info": {
   "codemirror_mode": {
    "name": "ipython",
    "version": 3
   },
   "file_extension": ".py",
   "mimetype": "text/x-python",
   "name": "python",
   "nbconvert_exporter": "python",
   "pygments_lexer": "ipython3",
   "version": "3.6.8"
  }
 },
 "nbformat": 4,
 "nbformat_minor": 2
}
