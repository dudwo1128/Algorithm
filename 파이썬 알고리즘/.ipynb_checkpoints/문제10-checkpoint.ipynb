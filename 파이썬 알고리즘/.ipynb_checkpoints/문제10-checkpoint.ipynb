{
 "cells": [
  {
   "cell_type": "markdown",
   "metadata": {},
   "source": [
    "# 문제 10\n",
    "## 병합 정렬(Merge Sort)\n",
    "- 리스트 안의 자료를 작은 수부터 큰 순서로 배열하는 정렬 알고리즘을 만들어보세요.\n"
   ]
  },
  {
   "cell_type": "code",
   "execution_count": 10,
   "metadata": {},
   "outputs": [
    {
     "name": "stdout",
     "output_type": "stream",
     "text": [
      "[1, 2, 3, 4, 5, 6, 7, 8, 9, 10]\n"
     ]
    }
   ],
   "source": [
    "def merge_sort(a):\n",
    "    n = len(a)\n",
    "    result = []\n",
    "    \n",
    "    # 재귀함수 종료 조건\n",
    "    if n <= 1:\n",
    "        return a\n",
    "    \n",
    "    # 두 그룹으로 나누는 과정\n",
    "    mid = n//2\n",
    "    g1 = merge_sort(a[:mid])\n",
    "    g2 = merge_sort(a[mid:])\n",
    "    \n",
    "    # 두 그룹 비교\n",
    "    while g1 and g2:\n",
    "        if g1[0] > g2[0]:\n",
    "            result.append(g2.pop(0))\n",
    "        else:\n",
    "            result.append(g1.pop(0))\n",
    "    while g1:\n",
    "        result.append(g1.pop(0))\n",
    "    while g2:\n",
    "        result.append(g2.pop(0))\n",
    "    \n",
    "    return result\n",
    "\n",
    "d = [6, 8, 3, 9, 10, 1, 2, 4, 7, 5]\n",
    "\n",
    "print(merge_sort(d))"
   ]
  },
  {
   "cell_type": "markdown",
   "metadata": {},
   "source": [
    "## 병합 정렬에서의 재귀 호출\n",
    "\n",
    "### 재귀 호출의 세가지 요건\n",
    "1. 함수 안에서 자기 자신을 다시 호출\n",
    "2. 재귀 호출 할 때 인자로 주어지는 입력 크기가 작아짐\n",
    "3. 특정 종료 조건 존재"
   ]
  },
  {
   "cell_type": "markdown",
   "metadata": {},
   "source": [
    "## 일반적인 병합 정렬 알고리즘\n",
    "- 원리는 동일\n",
    "- return 값없음\n",
    "- 리스트 안의 자료 순서를 직접 바꿈"
   ]
  },
  {
   "cell_type": "code",
   "execution_count": 19,
   "metadata": {},
   "outputs": [
    {
     "name": "stdout",
     "output_type": "stream",
     "text": [
      "[1, 2, 3, 4, 5, 6, 7, 8, 9, 10]\n"
     ]
    }
   ],
   "source": [
    "def merge_sort(a):\n",
    "    result = []\n",
    "    n = len(a)\n",
    "    if n <= 1:\n",
    "        return result\n",
    "    \n",
    "    mid = n//2\n",
    "    g1 = a[:mid]\n",
    "    g2 = a[mid:]\n",
    "\n",
    "    merge_sort(g1)\n",
    "    merge_sort(g2)\n",
    "    \n",
    "    i1 = 0\n",
    "    i2 = 0\n",
    "    ia = 0\n",
    "    \n",
    "    while i1<len(g1) and i2<len(g2):\n",
    "        if g1[i1] < g2[i2]:\n",
    "            a[ia] = g1[i1]\n",
    "            i1 += 1\n",
    "            ia += 1\n",
    "        else:\n",
    "            a[ia] = g2[i2]\n",
    "            i2 += 1\n",
    "            ia += 1\n",
    "    \n",
    "    while i1<len(g1) :\n",
    "            a[ia] = g1[i1]\n",
    "            i1 += 1\n",
    "            ia += 1\n",
    "            \n",
    "    while i2<len(g2) :\n",
    "        a[ia] = g2[i2]\n",
    "        i2 += 1\n",
    "        ia += 1\n",
    "            \n",
    "            \n",
    "d = [6, 8, 3, 9, 10, 1, 2, 4, 7, 5]\n",
    "merge_sort(d)\n",
    "print(d)\n"
   ]
  },
  {
   "cell_type": "markdown",
   "metadata": {},
   "source": [
    "## 알고리즘 분석\n",
    "### 분할 정복(divide and conquer)\n",
    "- 큰 문제를 작은 문제로 나눠서 푸는 방법\n",
    "- 계산 복잡도 O(n*logn)\n",
    "- O($n^2$)보다 낫다"
   ]
  },
  {
   "cell_type": "markdown",
   "metadata": {},
   "source": [
    "## 연습 문제 10-2 \n",
    "프로그램 10-2에서 다룬 정렬 알고리즘은 숫자를 작은 수에서 큰 수 순서로 나열하는 오름차순 정렬이었습니다. 오름차순 정렬을 큰 수에서 작은 수 순서로 나열하는 내림차순 정렬로 바꾸려면 프로그램의 어느 부분을 바꿔야 할까요?\n",
    "\n",
    "A. if g1[i1] > g2[i2]"
   ]
  }
 ],
 "metadata": {
  "kernelspec": {
   "display_name": "Python 3",
   "language": "python",
   "name": "python3"
  },
  "language_info": {
   "codemirror_mode": {
    "name": "ipython",
    "version": 3
   },
   "file_extension": ".py",
   "mimetype": "text/x-python",
   "name": "python",
   "nbconvert_exporter": "python",
   "pygments_lexer": "ipython3",
   "version": "3.6.8"
  }
 },
 "nbformat": 4,
 "nbformat_minor": 2
}
