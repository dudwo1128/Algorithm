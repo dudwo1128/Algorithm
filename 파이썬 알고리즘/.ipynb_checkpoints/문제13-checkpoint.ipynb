{
 "cells": [
  {
   "cell_type": "markdown",
   "metadata": {},
   "source": [
    "# 자료 구조\n",
    "- 여러가지 자료와 정보를 컴퓨터 안에 저장하고 보관하는 방식\n",
    "- 자료를 효율적으로 정리해서 보관하는 것이 필수"
   ]
  },
  {
   "cell_type": "markdown",
   "metadata": {},
   "source": [
    "# 문제 13\n",
    "# 회문 찾기 : 큐와 스택\n",
    "\n",
    "### 회문 : 순서대로 읽어도 거꾸로 읽어도 그 내용이 같은 낱말이나 문장\n",
    "- 낱말 사이 공백, 기호는 무시"
   ]
  },
  {
   "cell_type": "markdown",
   "metadata": {},
   "source": [
    "## 큐와 스택\n",
    "\n",
    "- 자료 넣는 동작\n",
    "- 자료 빼는 동작\n",
    "\n",
    "### 큐\n",
    "- 줄 서기\n",
    "- First in First out\n",
    "- 인큐(Enqueue) : 자료 1개 넣는 것\n",
    "- 디큐(Dequeue) : 자료 1개 빼는 것\n",
    "\n",
    "\n",
    "### 스택\n",
    "- 접시 쌓기\n",
    "- Last in First out\n",
    "- 푸시(Push) : 자료 1개를 넣는 것\n",
    "- 팝(Pop) : 자료 1개를 꺼내는 것\n"
   ]
  },
  {
   "cell_type": "code",
   "execution_count": 3,
   "metadata": {},
   "outputs": [
    {
     "data": {
      "text/plain": [
       "True"
      ]
     },
     "execution_count": 3,
     "metadata": {},
     "output_type": "execute_result"
    }
   ],
   "source": [
    "def palindrome(a):\n",
    "    qu = []\n",
    "    stack = []\n",
    "    \n",
    "    for i in a:\n",
    "        if i.isalpha():\n",
    "            qu.append(i.lower())\n",
    "            stack.append(i.lower())\n",
    "    \n",
    "    while qu:\n",
    "        if qu.pop(0) != stack.pop():\n",
    "            return False\n",
    "        else:\n",
    "            return True\n",
    "\n",
    "palindrome(\"WoW\")"
   ]
  }
 ],
 "metadata": {
  "kernelspec": {
   "display_name": "Python 3",
   "language": "python",
   "name": "python3"
  },
  "language_info": {
   "codemirror_mode": {
    "name": "ipython",
    "version": 3
   },
   "file_extension": ".py",
   "mimetype": "text/x-python",
   "name": "python",
   "nbconvert_exporter": "python",
   "pygments_lexer": "ipython3",
   "version": "3.6.8"
  }
 },
 "nbformat": 4,
 "nbformat_minor": 2
}
