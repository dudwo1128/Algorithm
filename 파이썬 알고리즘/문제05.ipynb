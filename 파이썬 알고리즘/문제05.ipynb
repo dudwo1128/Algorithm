{
 "cells": [
  {
   "cell_type": "markdown",
   "metadata": {},
   "source": [
    "# 문제 05\n",
    "최대 공약수 구하기\n",
    "\n",
    "두 자연수 a와 b의 최대공약수를 구하는 알고리즘을 만들어 보세요."
   ]
  },
  {
   "cell_type": "code",
   "execution_count": 4,
   "metadata": {},
   "outputs": [
    {
     "name": "stdout",
     "output_type": "stream",
     "text": [
      "15\n"
     ]
    }
   ],
   "source": [
    "# 교재 답안\n",
    "\n",
    "def find(a,b):\n",
    "    n = min(a,b)\n",
    "    while True:\n",
    "        if a%n == 0 and b%n == 0:\n",
    "            return n\n",
    "        n = n -1\n",
    "        \n",
    "print(find(15,30))\n",
    "    "
   ]
  },
  {
   "cell_type": "markdown",
   "metadata": {},
   "source": [
    "## 유클리드 알고리즘\n",
    "\n",
    "- 재귀 호출 사용\n",
    "- 어떤 두 수의 최대공약수를 구하기 위해 다시 다른 두수의 최대공약수를 구함\n",
    "\n",
    "### 예시\n",
    "- gcd(60, 24) = gcd(24, 60 % 24) = gcd(24, 12) = gcd(12, 24 % 12) = gcd(12, 0) = 12\n",
    "- gcd(81, 27) = gcd(27, 81 % 27) = gcd(27, 0) = 27\n",
    "- (a, b)보다 좀 더 작은 숫자인 (b, a % b)의 최대공약수를 구하는 과정을 이용\n",
    "\n",
    "- 종료 조건 :‘어떤 수와 0의 최대공약수는 자기 자신’"
   ]
  },
  {
   "cell_type": "code",
   "execution_count": 8,
   "metadata": {},
   "outputs": [
    {
     "name": "stdout",
     "output_type": "stream",
     "text": [
      "12\n"
     ]
    }
   ],
   "source": [
    "# 교재 답안\n",
    "# 유클리드 알고리즘 \n",
    "\n",
    "def gcd(a,b):\n",
    "    if b == 0:\n",
    "        return a\n",
    "    return gcd(b, a%b)\n",
    "\n",
    "print(gcd(24,60))"
   ]
  },
  {
   "cell_type": "markdown",
   "metadata": {},
   "source": [
    "## 재귀 호출을 이해를 돕는 방법"
   ]
  },
  {
   "cell_type": "code",
   "execution_count": 10,
   "metadata": {},
   "outputs": [
    {
     "name": "stdout",
     "output_type": "stream",
     "text": [
      "gcd :  3 15\n",
      "gcd :  15 3\n",
      "gcd :  3 0\n"
     ]
    },
    {
     "data": {
      "text/plain": [
       "3"
      ]
     },
     "execution_count": 10,
     "metadata": {},
     "output_type": "execute_result"
    }
   ],
   "source": [
    "def gcd(a,b):\n",
    "    print(\"gcd : \",a,b)\n",
    "    if b == 0:\n",
    "        return a\n",
    "    return gcd(b,a%b)\n",
    "\n",
    "gcd(3,15)"
   ]
  },
  {
   "cell_type": "markdown",
   "metadata": {},
   "source": [
    "## 연습 문제 5-1\n",
    "\n",
    "0과 1부터 시작해서 바로 앞의 두 수를 더한 값을 다음 값으로 추가하는 방식으로 만든 수열을 피보나치 수열이라고 합니다. \n",
    "\n",
    "즉, 0+1 = 1, 1+1 = 2, 1+2 = 3 이므로 피보나치 수열은 다음과 같습니다.\n",
    "\n",
    "0,1,1,2,3,5,8,13,21,34,55\n",
    "\n",
    "피보나치 수열이 파이썬의 리스트처럼 0번부터 시작한다고 가정할 때 n번째 피보나치 수를 구하는 알고리즘을 재귀 호출을 이용해서 구현해 보세요(힌트: 7번 값 = 5번 값 + 6번 값)."
   ]
  },
  {
   "cell_type": "code",
   "execution_count": 17,
   "metadata": {},
   "outputs": [
    {
     "name": "stdout",
     "output_type": "stream",
     "text": [
      "3\n"
     ]
    }
   ],
   "source": [
    "def fibo(n):\n",
    "    if n <=1:\n",
    "        return n\n",
    "    return fibo(n-2) + fibo(n-1)\n",
    "\n",
    "print(fibo(4))"
   ]
  }
 ],
 "metadata": {
  "kernelspec": {
   "display_name": "Python 3",
   "language": "python",
   "name": "python3"
  },
  "language_info": {
   "codemirror_mode": {
    "name": "ipython",
    "version": 3
   },
   "file_extension": ".py",
   "mimetype": "text/x-python",
   "name": "python",
   "nbconvert_exporter": "python",
   "pygments_lexer": "ipython3",
   "version": "3.6.8"
  }
 },
 "nbformat": 4,
 "nbformat_minor": 2
}
