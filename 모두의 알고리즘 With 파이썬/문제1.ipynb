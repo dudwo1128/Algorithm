{
 "cells": [
  {
   "cell_type": "markdown",
   "metadata": {},
   "source": [
    "# 문제 01 \n",
    "1부터 n까지 연속한 숫자의 합을 구하는 알고리즘"
   ]
  },
  {
   "cell_type": "code",
   "execution_count": 5,
   "metadata": {},
   "outputs": [
    {
     "name": "stdout",
     "output_type": "stream",
     "text": [
      "55\n"
     ]
    }
   ],
   "source": [
    "# 문제 풀이 1\n",
    "def sum_num(n):\n",
    "    result = 0\n",
    "    for i in range(1,n+1):\n",
    "        result = result + i\n",
    "    print(result)\n",
    "sum_num(10)"
   ]
  },
  {
   "cell_type": "markdown",
   "metadata": {},
   "source": [
    "## 알고리즘 \n",
    "- 주어진 문제를 풀기 위한 절차 or 방법\n",
    "- 반드시 문제가 필요함\n",
    "- '입력'을 '출력'으로 만드는 과정\n",
    "- 다양한 문제 풀이 존재"
   ]
  },
  {
   "cell_type": "code",
   "execution_count": 7,
   "metadata": {},
   "outputs": [
    {
     "name": "stdout",
     "output_type": "stream",
     "text": [
      "55.0\n"
     ]
    }
   ],
   "source": [
    "# 문제 풀이 2\n",
    "def sum_num(n):\n",
    "    print((n*(n+1))/2)\n",
    "sum_num(10)"
   ]
  },
  {
   "cell_type": "markdown",
   "metadata": {},
   "source": [
    "## 알고리즘\n",
    "- 다양한 문제풀이 중 어떤 방법이 더 좋은지 판단\n",
    "- 수학 이론 필요"
   ]
  },
  {
   "cell_type": "markdown",
   "metadata": {},
   "source": [
    "## 입력 크기와 계산 횟수\n",
    "- 입력 크기는 수행성능에 영향\n",
    "\n",
    "## ex) n의 크기\n",
    "\n",
    "첫번째 알고리즘 - n번(덧셈)\n",
    "\n",
    "두번째 알고리즘 - 3번(덧셈, 곱셈, 나눗셈)\n",
    "\n",
    "## 대문자 O 표기법 : 계산 복잡도 표현\n",
    "- O(n) : 계산 횟수가 입력 크기 n과 비례\n",
    "- O(1) : 계산 횟수가 입력 크기 n과 무관\n",
    "\n",
    "보통 O(1)이 빠름"
   ]
  },
  {
   "cell_type": "markdown",
   "metadata": {},
   "source": []
  },
  {
   "cell_type": "markdown",
   "metadata": {},
   "source": [
    "## 연습 문제 1-1\n",
    "1부터 n까지 연속한 숫자의 제곱의 합을 구하는 프로그램을 for 반복문으로 만들어 보세요(예를 들어 n = 10이라면 12 + 22 +32 + … + 102 = 385를 계산하는 프로그램입니다)."
   ]
  },
  {
   "cell_type": "code",
   "execution_count": 12,
   "metadata": {},
   "outputs": [
    {
     "name": "stdout",
     "output_type": "stream",
     "text": [
      "14\n"
     ]
    }
   ],
   "source": [
    "def sum_square(n):\n",
    "    result = 0\n",
    "    for i in range(1, n+1):\n",
    "        result = result + (i*i)\n",
    "    print(result)\n",
    "sum_square(3)"
   ]
  },
  {
   "cell_type": "markdown",
   "metadata": {},
   "source": [
    "## 연습 문제 1-2 \n",
    "연습 문제 1-1 프로그램의 계산 복잡도는 O(1)과 O(n) 중 무엇일까요?\n",
    "\n",
    "A. O(n)"
   ]
  },
  {
   "cell_type": "markdown",
   "metadata": {},
   "source": [
    "## 연습문제 1-3\n",
    "1부터 n까지 연속한 숫자의 제곱의 합을 구하는 공식은  로 알려져 있습니다. for 반복문 대신 이 공식을 이용하면 알고리즘의 계산 복잡도는 O(1)과 O(n) 중 무엇이 될까요?\n",
    "\n",
    "A.O(1)"
   ]
  }
 ],
 "metadata": {
  "kernelspec": {
   "display_name": "Python 3",
   "language": "python",
   "name": "python3"
  },
  "language_info": {
   "codemirror_mode": {
    "name": "ipython",
    "version": 3
   },
   "file_extension": ".py",
   "mimetype": "text/x-python",
   "name": "python",
   "nbconvert_exporter": "python",
   "pygments_lexer": "ipython3",
   "version": "3.7.1"
  }
 },
 "nbformat": 4,
 "nbformat_minor": 2
}
