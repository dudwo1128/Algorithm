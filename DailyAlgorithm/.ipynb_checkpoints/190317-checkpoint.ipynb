{
 "cells": [
  {
   "cell_type": "markdown",
   "metadata": {},
   "source": [
    "### Q. 길이가 N인 배열에 1부터 N까지 숫자가 중복 없이 한 번씩 들어 있는지 확인하시오"
   ]
  },
  {
   "cell_type": "code",
   "execution_count": 15,
   "metadata": {},
   "outputs": [
    {
     "name": "stdout",
     "output_type": "stream",
     "text": [
      "5\n",
      "10\n"
     ]
    }
   ],
   "source": [
    "def test(a):\n",
    "    n = len(a)\n",
    "    for i in range(0,n-1):\n",
    "        for j in range(i+1,n):\n",
    "            if a[i] == a[j]:\n",
    "                print(a[i])\n",
    "\n",
    "d = [1,5,10,8,10,2,3,5]\n",
    "test(d)"
   ]
  }
 ],
 "metadata": {
  "kernelspec": {
   "display_name": "Python 3",
   "language": "python",
   "name": "python3"
  },
  "language_info": {
   "codemirror_mode": {
    "name": "ipython",
    "version": 3
   },
   "file_extension": ".py",
   "mimetype": "text/x-python",
   "name": "python",
   "nbconvert_exporter": "python",
   "pygments_lexer": "ipython3",
   "version": "3.6.8"
  }
 },
 "nbformat": 4,
 "nbformat_minor": 2
}
