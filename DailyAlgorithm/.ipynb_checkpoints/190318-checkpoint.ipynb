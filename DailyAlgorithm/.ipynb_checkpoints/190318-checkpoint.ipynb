{
 "cells": [
  {
   "cell_type": "markdown",
   "metadata": {},
   "source": [
    "## 정렬되지 않은 배열과 정수 n이 주어지면, 배열 안에 합이 N이 되는 두 원소를 찾으시오."
   ]
  },
  {
   "cell_type": "code",
   "execution_count": 5,
   "metadata": {},
   "outputs": [
    {
     "name": "stdout",
     "output_type": "stream",
     "text": [
      "0 8\n",
      "1 7\n",
      "2 6\n",
      "3 5\n"
     ]
    }
   ],
   "source": [
    "def test(a,n):\n",
    "    for i in range(0,len(a)-1):\n",
    "        for j in range(i+1,len(a)):\n",
    "            if i + j == n:\n",
    "                print(i,j)\n",
    "\n",
    "d = [0,10,8,7,2,3,6,4,1]\n",
    "test(d,8)"
   ]
  }
 ],
 "metadata": {
  "kernelspec": {
   "display_name": "Python 3",
   "language": "python",
   "name": "python3"
  },
  "language_info": {
   "codemirror_mode": {
    "name": "ipython",
    "version": 3
   },
   "file_extension": ".py",
   "mimetype": "text/x-python",
   "name": "python",
   "nbconvert_exporter": "python",
   "pygments_lexer": "ipython3",
   "version": "3.6.8"
  }
 },
 "nbformat": 4,
 "nbformat_minor": 2
}
