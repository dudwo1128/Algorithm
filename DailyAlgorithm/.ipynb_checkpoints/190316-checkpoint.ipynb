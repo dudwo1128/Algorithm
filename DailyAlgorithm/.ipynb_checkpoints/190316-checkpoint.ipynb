{
 "cells": [
  {
   "cell_type": "markdown",
   "metadata": {},
   "source": [
    "## 정렬되지 않은 정수 배열과 정수 S가 주어졌을 때, 합이 S가 되는 정수 배열 내의 두 수를 찾으시오\n",
    "\n",
    "- Input : 정수 배열 = [8,7,2,5,3,1], S = 10\n",
    "- Ouput : 인덱스 0과 2 (8+2) 또는 인덱스 1과 4 (7+3)\n"
   ]
  },
  {
   "cell_type": "code",
   "execution_count": 5,
   "metadata": {},
   "outputs": [
    {
     "name": "stdout",
     "output_type": "stream",
     "text": [
      "인덱스: [0] [2] 값: 8 2\n",
      "인덱스: [1] [4] 값: 7 3\n"
     ]
    }
   ],
   "source": [
    "def code_test(a,s):\n",
    "    n = len(a)\n",
    "    for i in range(0,n-1):\n",
    "        for j in range(i+1,n):\n",
    "            if a[i] + a[j] == s:\n",
    "                print(\"인덱스:\",[i],[j],\"값:\",a[i],a[j])                \n",
    "\n",
    "d = [8,7,2,5,3,1]\n",
    "s = 10\n",
    "code_test(d,s)"
   ]
  }
 ],
 "metadata": {
  "kernelspec": {
   "display_name": "Python 3",
   "language": "python",
   "name": "python3"
  },
  "language_info": {
   "codemirror_mode": {
    "name": "ipython",
    "version": 3
   },
   "file_extension": ".py",
   "mimetype": "text/x-python",
   "name": "python",
   "nbconvert_exporter": "python",
   "pygments_lexer": "ipython3",
   "version": "3.6.8"
  }
 },
 "nbformat": 4,
 "nbformat_minor": 2
}
