{
 "cells": [
  {
   "cell_type": "markdown",
   "metadata": {},
   "source": [
    "# 문제2\n",
    "최댓값 찾기\n",
    "\n",
    "주어진 숫자 n개 중 가장 큰 숫자를 찾는 알고리즘을 만들어 보세요."
   ]
  },
  {
   "cell_type": "code",
   "execution_count": 21,
   "metadata": {},
   "outputs": [
    {
     "name": "stdout",
     "output_type": "stream",
     "text": [
      "92\n"
     ]
    }
   ],
   "source": [
    "# 내 답안\n",
    "\n",
    "num_list = [17,92,18,33,58,7,33,42]\n",
    "\n",
    "def find_max(list):\n",
    "    max_num = list[0]\n",
    "    for i in list:\n",
    "        if i > max_num:\n",
    "            max_num = i\n",
    "    print(max_num)\n",
    "    \n",
    "find_max(num_list)"
   ]
  },
  {
   "cell_type": "code",
   "execution_count": 22,
   "metadata": {},
   "outputs": [
    {
     "name": "stdout",
     "output_type": "stream",
     "text": [
      "92\n"
     ]
    }
   ],
   "source": [
    "# 교재 답안\n",
    "\n",
    "def find_max(a):\n",
    "    n = len(a)             # 입력 크기 n\n",
    "    max_v = a[0]           # 리스트의 첫 번째 값을 최댓값으로 기억\n",
    "    for i in range(1, n):  # 1부터 n -1까지 반복\n",
    "        if a[i] > max_v:   # 이번 값이 현재까지 기억된 최댓값보다 크면\n",
    "            max_v = a[i]   # 최댓값을 변경\n",
    "    return max_v\n",
    "\n",
    "v = [17, 92, 18, 33, 58, 7, 33, 42]\n",
    "\n",
    "print(find_max(v))"
   ]
  },
  {
   "cell_type": "markdown",
   "metadata": {},
   "source": [
    "## 알고리즘 분석\n",
    "Q. 위 문제의 계산 복잡도(시간 복잡도)는?\n",
    "\n",
    "A. O(n)\n",
    "\n",
    "## 응용하기\n",
    "리스트에 숫자가 n개 있을 때 가장 큰 값이 있는 위치 번호를 돌려주는 알고리즘을 만들어 보세요.\n"
   ]
  },
  {
   "cell_type": "code",
   "execution_count": 18,
   "metadata": {},
   "outputs": [
    {
     "name": "stdout",
     "output_type": "stream",
     "text": [
      "7\n"
     ]
    }
   ],
   "source": [
    "# 내 답안\n",
    "\n",
    "num_list = [17,18,33,58,7,33,42,92]\n",
    "\n",
    "def max_index(list):\n",
    "    max_val = 0\n",
    "    for i in range(len(list)):\n",
    "        if num_list[i]> max_val:\n",
    "            max_val = num_list[i]\n",
    "    for j in list:\n",
    "        if j == max_val:\n",
    "            print(num_list.index(j))\n",
    "        \n",
    "max_index(num_list)"
   ]
  },
  {
   "cell_type": "code",
   "execution_count": 23,
   "metadata": {},
   "outputs": [
    {
     "name": "stdout",
     "output_type": "stream",
     "text": [
      "1\n"
     ]
    }
   ],
   "source": [
    "# 교재 답안\n",
    "\n",
    "def find_max_idx(a):\n",
    "    n = len(a)                 # 입력 크기 n\n",
    "    max_idx = 0                # 리스트 중 0번 위치를 최댓값 위치로 기억\n",
    "    for i in range(1, n):\n",
    "        if a[i] > a[max_idx]:  # 이번 값이 현재까지 기억된 최댓값보다 크면\n",
    "            max_idx = i        # 최댓값의 위치를 변경\n",
    "    return max_idx\n",
    "\n",
    "v = [17, 92, 18, 33, 58, 7, 33, 42]\n",
    "\n",
    "print(find_max_idx(v))"
   ]
  },
  {
   "cell_type": "markdown",
   "metadata": {},
   "source": [
    "## 연습 문제 2-1\n",
    "숫자 n개를 리스트로 입력받아 최솟값을 구하는 프로그램을 만들어 보세요."
   ]
  },
  {
   "cell_type": "code",
   "execution_count": 35,
   "metadata": {},
   "outputs": [
    {
     "name": "stdout",
     "output_type": "stream",
     "text": [
      "7\n"
     ]
    }
   ],
   "source": [
    "# 내 답안\n",
    "\n",
    "def find_min(list):\n",
    "    min_val = list[0]\n",
    "    n = len(list)\n",
    "    for i in range(1,n):\n",
    "        if list[i] < min_val:\n",
    "            min_val = list[i]\n",
    "    return print(min_val)\n",
    "v = [17, 92, 18, 33, 58, 7, 33, 42]\n",
    "find_min(v)"
   ]
  }
 ],
 "metadata": {
  "kernelspec": {
   "display_name": "Python 3",
   "language": "python",
   "name": "python3"
  },
  "language_info": {
   "codemirror_mode": {
    "name": "ipython",
    "version": 3
   },
   "file_extension": ".py",
   "mimetype": "text/x-python",
   "name": "python",
   "nbconvert_exporter": "python",
   "pygments_lexer": "ipython3",
   "version": "3.7.1"
  }
 },
 "nbformat": 4,
 "nbformat_minor": 2
}
