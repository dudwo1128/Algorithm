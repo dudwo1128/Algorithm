{
 "cells": [
  {
   "cell_type": "markdown",
   "metadata": {},
   "source": [
    "# 문제 03\n",
    "## 동명이인 찾기 1\n",
    "n명의 사람 이름 중에서 같은 이름을 찾아 집합으로 만들어 돌려주는 알고리즘을 만들어 보세요.\n",
    "\n"
   ]
  },
  {
   "cell_type": "code",
   "execution_count": 5,
   "metadata": {},
   "outputs": [
    {
     "name": "stdout",
     "output_type": "stream",
     "text": [
      "Tom\n"
     ]
    }
   ],
   "source": [
    "# 내 답안\n",
    "\n",
    "name_list = [\"Tom\",\"Jerry\",\"Mike\",\"Tom\"]\n",
    "\n",
    "def name_find(list):\n",
    "    blank = []\n",
    "    for i in name_list:\n",
    "        if i not in blank:\n",
    "            blank.append(i)\n",
    "        else:\n",
    "            print(i)\n",
    "\n",
    "name_find(name_list)"
   ]
  },
  {
   "cell_type": "markdown",
   "metadata": {},
   "source": [
    "## 집합\n",
    "- 리스트와 같이 여러개 정보 보관 가능\n",
    "- 리스트와 차이점 : 중복X, 자료 순서X"
   ]
  },
  {
   "cell_type": "code",
   "execution_count": 7,
   "metadata": {},
   "outputs": [
    {
     "name": "stdout",
     "output_type": "stream",
     "text": [
      "{1, 2}\n"
     ]
    }
   ],
   "source": [
    "s = set()\n",
    "s.add(1)\n",
    "s.add(2)\n",
    "s.add(2)\n",
    "print(s)"
   ]
  },
  {
   "cell_type": "code",
   "execution_count": 9,
   "metadata": {},
   "outputs": [
    {
     "data": {
      "text/plain": [
       "2"
      ]
     },
     "execution_count": 9,
     "metadata": {},
     "output_type": "execute_result"
    }
   ],
   "source": [
    "len(s)"
   ]
  },
  {
   "cell_type": "code",
   "execution_count": 11,
   "metadata": {},
   "outputs": [
    {
     "data": {
      "text/plain": [
       "True"
      ]
     },
     "execution_count": 11,
     "metadata": {},
     "output_type": "execute_result"
    }
   ],
   "source": [
    "{1,2} == {2,1}"
   ]
  },
  {
   "cell_type": "code",
   "execution_count": 1,
   "metadata": {},
   "outputs": [
    {
     "name": "stdout",
     "output_type": "stream",
     "text": [
      "{'Tom'}\n",
      "{'Mike', 'Tom'}\n"
     ]
    }
   ],
   "source": [
    "# 교재 답안\n",
    "\n",
    "def find_same_name(a):\n",
    "    n = len(a)\n",
    "    result = set()\n",
    "    for i in range(0,n-1):\n",
    "        for j in range(i+1,n):\n",
    "            if a[i] == a[j]:\n",
    "                result.add(a[i])\n",
    "    return result\n",
    "\n",
    "name =[\"Tom\",\"Jerry\",\"Mike\",\"Tom\"]\n",
    "print(find_same_name(name))\n",
    "name2 = [\"Tom\",\"Jerry\",\"Mike\",\"Tom\",\"Mike\"]\n",
    "print(find_same_name(name2))\n"
   ]
  },
  {
   "cell_type": "markdown",
   "metadata": {},
   "source": [
    "## 알고리즘 분석\n",
    "- 0번 위치 이름 : n-1번 비교(본인 제외)\n",
    "- 1번 위치 이름 : n-2번 비교\n",
    " ..\n",
    " ..\n",
    " \n",
    "- n-2번 위치 이름 : 1번 비교\n",
    "- n-1번 위치 이름 : 0번 비교\n",
    "\n",
    "- 전체 비교 횟수 = 0 + 1 + 2 + 3 + ... + (n-1)번\n",
    "\n",
    "- $n^2$에 비례\n",
    "- 계산 복잡도는 O($n^2$)"
   ]
  },
  {
   "cell_type": "markdown",
   "metadata": {},
   "source": [
    "## 연습 문제 3-1\n",
    "n명 중 두 명을 뽑아 짝을 짓는다고 할 때 짝을 지을 수 있는 모든 조합을 출력하는 알고리즘을 만들어 보세요.\n",
    "\n",
    "예를 들어 입력이 리스트 [\"Tom\", \"Jerry\", \"Mike\"]라면 다음과 같은 세 가지 경우를 출력합니다.\n",
    "\n",
    "Tom - Jerry\n",
    "\n",
    "Tom - Mike\n",
    "\n",
    "Jerry - Mike"
   ]
  },
  {
   "cell_type": "code",
   "execution_count": 36,
   "metadata": {},
   "outputs": [
    {
     "name": "stdout",
     "output_type": "stream",
     "text": [
      "Tom - Jerry\n",
      "Tom - Mike\n",
      "Jerry - Mike\n"
     ]
    }
   ],
   "source": [
    "# 내 풀이\n",
    "\n",
    "def pair(list):\n",
    "    n = len(list)\n",
    "    for i in range(0,n-1):\n",
    "        for j in range(i+1,n):\n",
    "            print(list[i],\"-\",list[j])\n",
    "\n",
    "name = [\"Tom\",\"Jerry\",\"Mike\"]\n",
    "\n",
    "pair(name)"
   ]
  },
  {
   "cell_type": "markdown",
   "metadata": {},
   "source": [
    "## 연습 문제 3-2\n",
    "다음 식을 각각 대문자 O 표기법으로 표현해 보세요\n",
    "\n",
    "A 65536\n",
    "\n",
    "B n - 1\n",
    "\n",
    "C  $(2n^2)/3$ + 10000n\n",
    "\n",
    "D   3n4 - 4n3 + 5n2 - 6n + 7"
   ]
  },
  {
   "cell_type": "markdown",
   "metadata": {},
   "source": [
    "풀이\n",
    "\n",
    "A. O(1)\n",
    "\n",
    "B. O(n)\n",
    "\n",
    "C. O($n^2$)\n",
    "\n",
    "D. O($n^4$)"
   ]
  },
  {
   "cell_type": "code",
   "execution_count": null,
   "metadata": {},
   "outputs": [],
   "source": []
  }
 ],
 "metadata": {
  "kernelspec": {
   "display_name": "Python 3",
   "language": "python",
   "name": "python3"
  },
  "language_info": {
   "codemirror_mode": {
    "name": "ipython",
    "version": 3
   },
   "file_extension": ".py",
   "mimetype": "text/x-python",
   "name": "python",
   "nbconvert_exporter": "python",
   "pygments_lexer": "ipython3",
   "version": "3.7.1"
  }
 },
 "nbformat": 4,
 "nbformat_minor": 2
}
